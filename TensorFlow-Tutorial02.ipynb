{
 "cells": [
  {
   "cell_type": "code",
   "execution_count": 32,
   "metadata": {
    "collapsed": true
   },
   "outputs": [],
   "source": [
    "import tensorflow as tf\n",
    "import numpy as np"
   ]
  },
  {
   "cell_type": "code",
   "execution_count": 33,
   "metadata": {
    "collapsed": true
   },
   "outputs": [],
   "source": [
    "x_data = np.float32(np.random.rand(2,100))\n",
    "y_data = np.dot([10, -10], x_data) + 0.5"
   ]
  },
  {
   "cell_type": "code",
   "execution_count": 34,
   "metadata": {
    "collapsed": true
   },
   "outputs": [],
   "source": [
    "W = tf.Variable(tf.random_uniform([1, 2], -10, 10))\n",
    "b = tf.Variable(tf.zeros([1]))\n",
    "y = tf.matmul(W, x_data) + b"
   ]
  },
  {
   "cell_type": "code",
   "execution_count": 35,
   "metadata": {
    "collapsed": true
   },
   "outputs": [],
   "source": [
    "loss = tf.reduce_sum(tf.square(y-y_data))\n",
    "optimizer = tf.train.GradientDescentOptimizer(0.001)\n",
    "train_step = optimizer.minimize(loss)"
   ]
  },
  {
   "cell_type": "code",
   "execution_count": 36,
   "metadata": {
    "collapsed": true
   },
   "outputs": [],
   "source": [
    "init = tf.initialize_all_variables()\n",
    "sess = tf.Session()\n",
    "sess.run(init)"
   ]
  },
  {
   "cell_type": "code",
   "execution_count": 37,
   "metadata": {
    "collapsed": false
   },
   "outputs": [
    {
     "name": "stdout",
     "output_type": "stream",
     "text": [
      "0 [[-6.66697168  5.37450838]] [ 0.34841931]\n",
      "20 [[-1.94547296  1.32264411]] [ 1.11498904]\n",
      "40 [[ 1.20000327 -1.88966656]] [ 1.07311916]\n",
      "60 [[ 3.50586247 -4.20181847]] [ 1.01973414]\n",
      "80 [[ 5.19845915 -5.86400461]] [ 0.96241605]\n",
      "100 [[ 6.44259405 -7.05735111]] [ 0.90556806]\n",
      "120 [[ 7.35846663 -7.91278934]] [ 0.85179067]\n",
      "140 [[ 8.03380394 -8.52490997]] [ 0.80248225]\n",
      "160 [[ 8.53268147 -8.96201801]] [ 0.75825727]\n",
      "180 [[ 8.90193653 -9.27339745]] [ 0.71923155]\n",
      "200 [[ 9.17583752 -9.49458218]] [ 0.68521899]\n",
      "220 [[ 9.37948036 -9.65117073]] [ 0.65586281]\n",
      "240 [[ 9.53127098 -9.76159191]] [ 0.63072193]\n",
      "260 [[ 9.64471626 -9.83908081]] [ 0.60932529]\n",
      "280 [[ 9.72974682 -9.89314938]] [ 0.59121162]\n",
      "300 [[ 9.79367256 -9.93060684]] [ 0.57594174]\n",
      "320 [[ 9.84188652 -9.9563303 ]] [ 0.56311673]\n",
      "340 [[ 9.87837505 -9.97380066]] [ 0.55237728]\n",
      "360 [[ 9.90608311 -9.98549557]] [ 0.54340851]\n",
      "380 [[ 9.92720222 -9.99317741]] [ 0.53593475]\n",
      "400 [[ 9.94335938 -9.99808693]] [ 0.52971679]\n",
      "420 [[  9.95576477 -10.00110531]] [ 0.52455384]\n",
      "440 [[  9.96532822 -10.00285053]] [ 0.52027214]\n",
      "460 [[  9.97272682 -10.00374985]] [ 0.51672673]\n",
      "480 [[  9.97847366 -10.0041008 ]] [ 0.51379281]\n"
     ]
    }
   ],
   "source": [
    "for step in range(500):\n",
    "    sess.run(train_step)\n",
    "    if step%20 == 0:\n",
    "        print step, sess.run(W), sess.run(b)"
   ]
  }
 ],
 "metadata": {
  "kernelspec": {
   "display_name": "Python 2",
   "language": "python",
   "name": "python2"
  },
  "language_info": {
   "codemirror_mode": {
    "name": "ipython",
    "version": 2
   },
   "file_extension": ".py",
   "mimetype": "text/x-python",
   "name": "python",
   "nbconvert_exporter": "python",
   "pygments_lexer": "ipython2",
   "version": "2.7.6"
  }
 },
 "nbformat": 4,
 "nbformat_minor": 0
}
